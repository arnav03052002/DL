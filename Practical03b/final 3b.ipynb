{
 "cells": [
  {
   "cell_type": "code",
   "execution_count": 1,
   "id": "9a1b8393",
   "metadata": {},
   "outputs": [],
   "source": [
    "import numpy as np\n",
    "import matplotlib.pyplot as plt\n",
    "from tensorflow.keras.datasets import fashion_mnist\n",
    "from tensorflow.keras.models import Sequential\n",
    "from tensorflow.keras.layers import Conv2D, MaxPooling2D, Flatten, Dense\n",
    "from tensorflow.keras.utils import to_categorical\n",
    "from tensorflow.keras.preprocessing.image import load_img, img_to_array\n",
    "import cv2\n",
    "import tkinter as tk\n",
    "from tkinter import filedialog\n",
    "import time\n",
    "\n"
   ]
  },
  {
   "cell_type": "code",
   "execution_count": 2,
   "id": "ce49c5f2",
   "metadata": {},
   "outputs": [],
   "source": [
    "# Define class labels\n",
    "class_labels = ['T-shirt/top', 'Trouser', 'Pullover', 'Dress', 'Coat',\n",
    "                'Sandal', 'Shirt', 'Sneaker', 'Bag', 'Ankle boot']\n",
    "\n"
   ]
  },
  {
   "cell_type": "code",
   "execution_count": 3,
   "id": "ebec9b3b",
   "metadata": {},
   "outputs": [],
   "source": [
    "# Load the Fashion MNIST dataset\n",
    "(train_images, train_labels), (test_images, test_labels) = fashion_mnist.load_data()\n",
    "# Preprocess the data\n",
    "train_images = train_images.reshape((train_images.shape[0], 28, 28, 1)).astype('float32') / 255\n",
    "test_images = test_images.reshape((test_images.shape[0], 28, 28, 1)).astype('float32') / 255\n",
    "train_labels = to_categorical(train_labels)\n",
    "test_labels = to_categorical(test_labels)\n",
    "\n"
   ]
  },
  {
   "cell_type": "code",
   "execution_count": 4,
   "id": "68c41737",
   "metadata": {},
   "outputs": [],
   "source": [
    "# Define the CNN model\n",
    "model = Sequential([\n",
    "    Conv2D(32, (3, 3), activation='relu', input_shape=(28, 28, 1)),\n",
    "    MaxPooling2D((2, 2)),\n",
    "    Conv2D(64, (3, 3), activation='relu'),\n",
    "    MaxPooling2D((2, 2)),\n",
    "    Conv2D(64, (3, 3), activation='relu'),\n",
    "    Flatten(),\n",
    "    Dense(64, activation='relu'),\n",
    "    Dense(10, activation='softmax')\n",
    "])\n",
    "\n"
   ]
  },
  {
   "cell_type": "code",
   "execution_count": 5,
   "id": "d850a3ea",
   "metadata": {},
   "outputs": [],
   "source": [
    "# Compile the model\n",
    "model.compile(optimizer='adam',\n",
    "              loss='categorical_crossentropy',\n",
    "              metrics=['accuracy'])\n",
    "\n"
   ]
  },
  {
   "cell_type": "code",
   "execution_count": 6,
   "id": "941893f6",
   "metadata": {},
   "outputs": [
    {
     "name": "stdout",
     "output_type": "stream",
     "text": [
      "Epoch 1/15\n",
      "750/750 [==============================] - 50s 64ms/step - loss: 0.5845 - accuracy: 0.7834 - val_loss: 0.4155 - val_accuracy: 0.8470\n",
      "Epoch 2/15\n",
      "750/750 [==============================] - 53s 70ms/step - loss: 0.3756 - accuracy: 0.8635 - val_loss: 0.3618 - val_accuracy: 0.8673\n",
      "Epoch 3/15\n",
      "750/750 [==============================] - 48s 63ms/step - loss: 0.3206 - accuracy: 0.8827 - val_loss: 0.3255 - val_accuracy: 0.8798\n",
      "Epoch 4/15\n",
      "750/750 [==============================] - 47s 63ms/step - loss: 0.2886 - accuracy: 0.8934 - val_loss: 0.3269 - val_accuracy: 0.8839\n",
      "Epoch 5/15\n",
      "750/750 [==============================] - 48s 65ms/step - loss: 0.2637 - accuracy: 0.9040 - val_loss: 0.2837 - val_accuracy: 0.8970\n",
      "Epoch 6/15\n",
      "750/750 [==============================] - 54s 72ms/step - loss: 0.2466 - accuracy: 0.9085 - val_loss: 0.2722 - val_accuracy: 0.9012\n",
      "Epoch 7/15\n",
      "750/750 [==============================] - 49s 65ms/step - loss: 0.2279 - accuracy: 0.9158 - val_loss: 0.2673 - val_accuracy: 0.9033\n",
      "Epoch 8/15\n",
      "750/750 [==============================] - 51s 68ms/step - loss: 0.2118 - accuracy: 0.9217 - val_loss: 0.2809 - val_accuracy: 0.9014\n",
      "Epoch 9/15\n",
      "750/750 [==============================] - 56s 74ms/step - loss: 0.1978 - accuracy: 0.9270 - val_loss: 0.2929 - val_accuracy: 0.9003\n",
      "Epoch 10/15\n",
      "750/750 [==============================] - 49s 65ms/step - loss: 0.1819 - accuracy: 0.9324 - val_loss: 0.2578 - val_accuracy: 0.9107\n",
      "Epoch 11/15\n",
      "750/750 [==============================] - 49s 66ms/step - loss: 0.1697 - accuracy: 0.9367 - val_loss: 0.2590 - val_accuracy: 0.9101\n",
      "Epoch 12/15\n",
      "750/750 [==============================] - 49s 65ms/step - loss: 0.1577 - accuracy: 0.9416 - val_loss: 0.2771 - val_accuracy: 0.9071\n",
      "Epoch 13/15\n",
      "750/750 [==============================] - 48s 64ms/step - loss: 0.1451 - accuracy: 0.9455 - val_loss: 0.2757 - val_accuracy: 0.9099\n",
      "Epoch 14/15\n",
      "750/750 [==============================] - 46s 61ms/step - loss: 0.1364 - accuracy: 0.9494 - val_loss: 0.2767 - val_accuracy: 0.9072\n",
      "Epoch 15/15\n",
      "750/750 [==============================] - 44s 59ms/step - loss: 0.1240 - accuracy: 0.9530 - val_loss: 0.2976 - val_accuracy: 0.9047\n",
      "Training time:  739.4469180107117\n"
     ]
    }
   ],
   "source": [
    "# Train the model\n",
    "start_time = time.time()\n",
    "model.fit(train_images, train_labels, epochs=15, batch_size=64, validation_split=0.2)\n",
    "train_time = time.time() - start_time\n",
    "print(\"Training time: \", train_time)\n",
    "\n",
    "\n"
   ]
  },
  {
   "cell_type": "code",
   "execution_count": 7,
   "id": "1d9a8fc6",
   "metadata": {},
   "outputs": [],
   "source": [
    "def preprocess_and_predict_image(image_path):\n",
    "    # Read and preprocess the image\n",
    "    img = preprocess_image(image_path)\n",
    "    # Predict the class and measure prediction time\n",
    "    start_time = time.time()\n",
    "    predictions = model.predict(img)\n",
    "    pred_time = time.time() - start_time\n",
    "    predicted_class_index = np.argmax(predictions)\n",
    "    predicted_class = class_labels[predicted_class_index]  # Get the class name from class_labels\n",
    "    return predicted_class, pred_time\n",
    "\n",
    "\n",
    "def preprocess_image(image_path):\n",
    "    # Load the image from the file path\n",
    "    img = load_img(image_path, target_size=(28, 28), color_mode=\"grayscale\")\n",
    "    # Convert the image to a NumPy array\n",
    "    img_array = img_to_array(img)\n",
    "    # Invert the grayscale values (black -> white, white -> black)\n",
    "    img_array = 255 - img_array\n",
    "    # Reshape the image array to add a dimension for the color channel (even though it's grayscale)\n",
    "    img_array = img_array.reshape((1, 28, 28, 1))\n",
    "    # Normalize the pixel values to be between 0 and 1\n",
    "    return img_array / 255.0\n",
    "\n",
    "\n",
    "def browse_image():\n",
    "    file_path = filedialog.askopenfilename()\n",
    "    if file_path:\n",
    "        predicted_class, pred_time = preprocess_and_predict_image(file_path)\n",
    "        result_label.config(text=f\"Predicted Class: {predicted_class}\\nPrediction Time: {pred_time:.4f} seconds\")\n",
    "\n",
    "\n"
   ]
  },
  {
   "cell_type": "code",
   "execution_count": null,
   "id": "cece2676",
   "metadata": {},
   "outputs": [
    {
     "name": "stdout",
     "output_type": "stream",
     "text": [
      "1/1 [==============================] - 2s 2s/step\n"
     ]
    }
   ],
   "source": [
    "# Create a Tkinter window\n",
    "root = tk.Tk()\n",
    "root.title(\"Fashion MNIST Image Classifier\")\n",
    "\n",
    "# Create a button to browse the image\n",
    "browse_button = tk.Button(root, text=\"Browse Image\", command=browse_image)\n",
    "browse_button.pack(pady=10)\n",
    "\n",
    "# Label to display the predicted class\n",
    "result_label = tk.Label(root, text=\"\")\n",
    "result_label.pack(pady=5)\n",
    "\n",
    "# Start the Tkinter event loop\n",
    "root.mainloop()\n"
   ]
  },
  {
   "cell_type": "code",
   "execution_count": null,
   "id": "e3e8d613",
   "metadata": {},
   "outputs": [],
   "source": []
  }
 ],
 "metadata": {
  "kernelspec": {
   "display_name": "Python 3 (ipykernel)",
   "language": "python",
   "name": "python3"
  },
  "language_info": {
   "codemirror_mode": {
    "name": "ipython",
    "version": 3
   },
   "file_extension": ".py",
   "mimetype": "text/x-python",
   "name": "python",
   "nbconvert_exporter": "python",
   "pygments_lexer": "ipython3",
   "version": "3.10.7"
  }
 },
 "nbformat": 4,
 "nbformat_minor": 5
}
